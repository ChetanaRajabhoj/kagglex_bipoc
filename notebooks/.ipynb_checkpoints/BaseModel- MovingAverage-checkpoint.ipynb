{
 "cells": [
  {
   "cell_type": "code",
   "execution_count": 206,
   "metadata": {},
   "outputs": [],
   "source": [
    "import numpy as np\n",
    "import pandas as pd\n",
    "\n",
    "import seaborn as sns\n",
    "import matplotlib.pyplot as plt"
   ]
  },
  {
   "cell_type": "code",
   "execution_count": 207,
   "metadata": {},
   "outputs": [],
   "source": [
    "dfcpu = pd.read_csv('C:/Users/rajab/KaggleX_Bipoc/data/raw/cpu4.csv')\n",
    "dfcpu = dfcpu.sort_values(by='timestamp', ascending=True)\n",
    "dfcpu = dfcpu.replace({'label': {0.0: False, 1.0: True}})"
   ]
  },
  {
   "cell_type": "code",
   "execution_count": 208,
   "metadata": {},
   "outputs": [
    {
     "name": "stdout",
     "output_type": "stream",
     "text": [
      "<class 'pandas.core.frame.DataFrame'>\n",
      "Int64Index: 17568 entries, 0 to 17567\n",
      "Data columns (total 3 columns):\n",
      " #   Column     Non-Null Count  Dtype  \n",
      "---  ------     --------------  -----  \n",
      " 0   timestamp  17568 non-null  int64  \n",
      " 1   value      17568 non-null  float64\n",
      " 2   label      17568 non-null  bool   \n",
      "dtypes: bool(1), float64(1), int64(1)\n",
      "memory usage: 428.9 KB\n"
     ]
    }
   ],
   "source": [
    "dfcpu.info()"
   ]
  },
  {
   "cell_type": "markdown",
   "metadata": {},
   "source": [
    "# Moving Average\n",
    "Moving Average is the most common type of average used in Time Series problems. We perform the sum of recent data points and divide them by the time period. Further, we simply check if the new record is far from the expected value. The expected value range is computed using the formula:\n",
    "\n",
    "expected value=  Moving Average + standard deviation * threshold; \n",
    "\n",
    "if moving average is out of the expected value range, we report as an anomaly."
   ]
  },
  {
   "cell_type": "code",
   "execution_count": 209,
   "metadata": {},
   "outputs": [],
   "source": [
    "dfcpu['moving_avg_3'] = dfcpu.iloc[:,1].rolling(window=3).mean()\n",
    "dfcpu['std'] = np.std(dfcpu['value'], ddof = 1)"
   ]
  },
  {
   "cell_type": "code",
   "execution_count": 211,
   "metadata": {},
   "outputs": [
    {
     "data": {
      "text/html": [
       "<div>\n",
       "<style scoped>\n",
       "    .dataframe tbody tr th:only-of-type {\n",
       "        vertical-align: middle;\n",
       "    }\n",
       "\n",
       "    .dataframe tbody tr th {\n",
       "        vertical-align: top;\n",
       "    }\n",
       "\n",
       "    .dataframe thead th {\n",
       "        text-align: right;\n",
       "    }\n",
       "</style>\n",
       "<table border=\"1\" class=\"dataframe\">\n",
       "  <thead>\n",
       "    <tr style=\"text-align: right;\">\n",
       "      <th></th>\n",
       "      <th>timestamp</th>\n",
       "      <th>value</th>\n",
       "      <th>label</th>\n",
       "      <th>moving_avg_3</th>\n",
       "      <th>std</th>\n",
       "    </tr>\n",
       "  </thead>\n",
       "  <tbody>\n",
       "    <tr>\n",
       "      <th>0</th>\n",
       "      <td>1469376000</td>\n",
       "      <td>0.847300</td>\n",
       "      <td>False</td>\n",
       "      <td>NaN</td>\n",
       "      <td>1.000028</td>\n",
       "    </tr>\n",
       "    <tr>\n",
       "      <th>1</th>\n",
       "      <td>1469376300</td>\n",
       "      <td>-0.036137</td>\n",
       "      <td>False</td>\n",
       "      <td>NaN</td>\n",
       "      <td>1.000028</td>\n",
       "    </tr>\n",
       "    <tr>\n",
       "      <th>2</th>\n",
       "      <td>1469376600</td>\n",
       "      <td>0.074292</td>\n",
       "      <td>False</td>\n",
       "      <td>0.295152</td>\n",
       "      <td>1.000028</td>\n",
       "    </tr>\n",
       "    <tr>\n",
       "      <th>3</th>\n",
       "      <td>1469376900</td>\n",
       "      <td>0.074292</td>\n",
       "      <td>False</td>\n",
       "      <td>0.037482</td>\n",
       "      <td>1.000028</td>\n",
       "    </tr>\n",
       "    <tr>\n",
       "      <th>4</th>\n",
       "      <td>1469377200</td>\n",
       "      <td>-0.036137</td>\n",
       "      <td>False</td>\n",
       "      <td>0.037482</td>\n",
       "      <td>1.000028</td>\n",
       "    </tr>\n",
       "  </tbody>\n",
       "</table>\n",
       "</div>"
      ],
      "text/plain": [
       "    timestamp     value  label  moving_avg_3       std\n",
       "0  1469376000  0.847300  False           NaN  1.000028\n",
       "1  1469376300 -0.036137  False           NaN  1.000028\n",
       "2  1469376600  0.074292  False      0.295152  1.000028\n",
       "3  1469376900  0.074292  False      0.037482  1.000028\n",
       "4  1469377200 -0.036137  False      0.037482  1.000028"
      ]
     },
     "execution_count": 211,
     "metadata": {},
     "output_type": "execute_result"
    }
   ],
   "source": [
    "dfcpu.head()"
   ]
  },
  {
   "cell_type": "code",
   "execution_count": 212,
   "metadata": {},
   "outputs": [
    {
     "data": {
      "text/html": [
       "<div>\n",
       "<style scoped>\n",
       "    .dataframe tbody tr th:only-of-type {\n",
       "        vertical-align: middle;\n",
       "    }\n",
       "\n",
       "    .dataframe tbody tr th {\n",
       "        vertical-align: top;\n",
       "    }\n",
       "\n",
       "    .dataframe thead th {\n",
       "        text-align: right;\n",
       "    }\n",
       "</style>\n",
       "<table border=\"1\" class=\"dataframe\">\n",
       "  <thead>\n",
       "    <tr style=\"text-align: right;\">\n",
       "      <th></th>\n",
       "      <th>timestamp</th>\n",
       "      <th>value</th>\n",
       "      <th>label</th>\n",
       "      <th>moving_avg_3</th>\n",
       "      <th>std</th>\n",
       "    </tr>\n",
       "  </thead>\n",
       "  <tbody>\n",
       "    <tr>\n",
       "      <th>395</th>\n",
       "      <td>1469494500</td>\n",
       "      <td>0.405581</td>\n",
       "      <td>True</td>\n",
       "      <td>0.405581</td>\n",
       "      <td>1.000028</td>\n",
       "    </tr>\n",
       "    <tr>\n",
       "      <th>396</th>\n",
       "      <td>1469494800</td>\n",
       "      <td>1.509878</td>\n",
       "      <td>True</td>\n",
       "      <td>0.810490</td>\n",
       "      <td>1.000028</td>\n",
       "    </tr>\n",
       "    <tr>\n",
       "      <th>397</th>\n",
       "      <td>1469495100</td>\n",
       "      <td>0.736871</td>\n",
       "      <td>True</td>\n",
       "      <td>0.884110</td>\n",
       "      <td>1.000028</td>\n",
       "    </tr>\n",
       "    <tr>\n",
       "      <th>886</th>\n",
       "      <td>1469641800</td>\n",
       "      <td>0.516011</td>\n",
       "      <td>True</td>\n",
       "      <td>0.442391</td>\n",
       "      <td>1.000028</td>\n",
       "    </tr>\n",
       "    <tr>\n",
       "      <th>887</th>\n",
       "      <td>1469642100</td>\n",
       "      <td>0.184722</td>\n",
       "      <td>True</td>\n",
       "      <td>0.368772</td>\n",
       "      <td>1.000028</td>\n",
       "    </tr>\n",
       "  </tbody>\n",
       "</table>\n",
       "</div>"
      ],
      "text/plain": [
       "      timestamp     value  label  moving_avg_3       std\n",
       "395  1469494500  0.405581   True      0.405581  1.000028\n",
       "396  1469494800  1.509878   True      0.810490  1.000028\n",
       "397  1469495100  0.736871   True      0.884110  1.000028\n",
       "886  1469641800  0.516011   True      0.442391  1.000028\n",
       "887  1469642100  0.184722   True      0.368772  1.000028"
      ]
     },
     "execution_count": 212,
     "metadata": {},
     "output_type": "execute_result"
    }
   ],
   "source": [
    "dfcpu.loc[dfcpu['label'] == True].head()"
   ]
  },
  {
   "cell_type": "code",
   "execution_count": 213,
   "metadata": {},
   "outputs": [],
   "source": [
    "threshold = 1"
   ]
  },
  {
   "cell_type": "code",
   "execution_count": 214,
   "metadata": {},
   "outputs": [],
   "source": [
    "dfcpu['expected_value'] = dfcpu['moving_avg_3'] + dfcpu['std'] * threshold\n",
    "dfcpu['deviation'] = dfcpu['std'] * threshold"
   ]
  },
  {
   "cell_type": "code",
   "execution_count": 215,
   "metadata": {},
   "outputs": [],
   "source": [
    "dfcpu['expected_value'].fillna(dfcpu['value'], inplace = True)"
   ]
  },
  {
   "cell_type": "code",
   "execution_count": 216,
   "metadata": {},
   "outputs": [
    {
     "data": {
      "text/html": [
       "<div>\n",
       "<style scoped>\n",
       "    .dataframe tbody tr th:only-of-type {\n",
       "        vertical-align: middle;\n",
       "    }\n",
       "\n",
       "    .dataframe tbody tr th {\n",
       "        vertical-align: top;\n",
       "    }\n",
       "\n",
       "    .dataframe thead th {\n",
       "        text-align: right;\n",
       "    }\n",
       "</style>\n",
       "<table border=\"1\" class=\"dataframe\">\n",
       "  <thead>\n",
       "    <tr style=\"text-align: right;\">\n",
       "      <th></th>\n",
       "      <th>timestamp</th>\n",
       "      <th>value</th>\n",
       "      <th>label</th>\n",
       "      <th>moving_avg_3</th>\n",
       "      <th>std</th>\n",
       "      <th>expected_value</th>\n",
       "      <th>deviation</th>\n",
       "    </tr>\n",
       "  </thead>\n",
       "  <tbody>\n",
       "    <tr>\n",
       "      <th>395</th>\n",
       "      <td>1469494500</td>\n",
       "      <td>0.405581</td>\n",
       "      <td>True</td>\n",
       "      <td>0.405581</td>\n",
       "      <td>1.000028</td>\n",
       "      <td>1.405610</td>\n",
       "      <td>1.000028</td>\n",
       "    </tr>\n",
       "    <tr>\n",
       "      <th>396</th>\n",
       "      <td>1469494800</td>\n",
       "      <td>1.509878</td>\n",
       "      <td>True</td>\n",
       "      <td>0.810490</td>\n",
       "      <td>1.000028</td>\n",
       "      <td>1.810519</td>\n",
       "      <td>1.000028</td>\n",
       "    </tr>\n",
       "    <tr>\n",
       "      <th>397</th>\n",
       "      <td>1469495100</td>\n",
       "      <td>0.736871</td>\n",
       "      <td>True</td>\n",
       "      <td>0.884110</td>\n",
       "      <td>1.000028</td>\n",
       "      <td>1.884139</td>\n",
       "      <td>1.000028</td>\n",
       "    </tr>\n",
       "    <tr>\n",
       "      <th>886</th>\n",
       "      <td>1469641800</td>\n",
       "      <td>0.516011</td>\n",
       "      <td>True</td>\n",
       "      <td>0.442391</td>\n",
       "      <td>1.000028</td>\n",
       "      <td>1.442420</td>\n",
       "      <td>1.000028</td>\n",
       "    </tr>\n",
       "    <tr>\n",
       "      <th>887</th>\n",
       "      <td>1469642100</td>\n",
       "      <td>0.184722</td>\n",
       "      <td>True</td>\n",
       "      <td>0.368772</td>\n",
       "      <td>1.000028</td>\n",
       "      <td>1.368800</td>\n",
       "      <td>1.000028</td>\n",
       "    </tr>\n",
       "  </tbody>\n",
       "</table>\n",
       "</div>"
      ],
      "text/plain": [
       "      timestamp     value  label  moving_avg_3       std  expected_value  \\\n",
       "395  1469494500  0.405581   True      0.405581  1.000028        1.405610   \n",
       "396  1469494800  1.509878   True      0.810490  1.000028        1.810519   \n",
       "397  1469495100  0.736871   True      0.884110  1.000028        1.884139   \n",
       "886  1469641800  0.516011   True      0.442391  1.000028        1.442420   \n",
       "887  1469642100  0.184722   True      0.368772  1.000028        1.368800   \n",
       "\n",
       "     deviation  \n",
       "395   1.000028  \n",
       "396   1.000028  \n",
       "397   1.000028  \n",
       "886   1.000028  \n",
       "887   1.000028  "
      ]
     },
     "execution_count": 216,
     "metadata": {},
     "output_type": "execute_result"
    }
   ],
   "source": [
    "dfcpu.loc[dfcpu['label'] == True].head()"
   ]
  },
  {
   "cell_type": "code",
   "execution_count": 217,
   "metadata": {},
   "outputs": [
    {
     "data": {
      "text/html": [
       "<div>\n",
       "<style scoped>\n",
       "    .dataframe tbody tr th:only-of-type {\n",
       "        vertical-align: middle;\n",
       "    }\n",
       "\n",
       "    .dataframe tbody tr th {\n",
       "        vertical-align: top;\n",
       "    }\n",
       "\n",
       "    .dataframe thead th {\n",
       "        text-align: right;\n",
       "    }\n",
       "</style>\n",
       "<table border=\"1\" class=\"dataframe\">\n",
       "  <thead>\n",
       "    <tr style=\"text-align: right;\">\n",
       "      <th></th>\n",
       "      <th>timestamp</th>\n",
       "      <th>value</th>\n",
       "      <th>label</th>\n",
       "      <th>moving_avg_3</th>\n",
       "      <th>std</th>\n",
       "      <th>expected_value</th>\n",
       "      <th>deviation</th>\n",
       "    </tr>\n",
       "  </thead>\n",
       "  <tbody>\n",
       "    <tr>\n",
       "      <th>0</th>\n",
       "      <td>1469376000</td>\n",
       "      <td>0.847300</td>\n",
       "      <td>False</td>\n",
       "      <td>NaN</td>\n",
       "      <td>1.000028</td>\n",
       "      <td>0.847300</td>\n",
       "      <td>1.000028</td>\n",
       "    </tr>\n",
       "    <tr>\n",
       "      <th>1</th>\n",
       "      <td>1469376300</td>\n",
       "      <td>-0.036137</td>\n",
       "      <td>False</td>\n",
       "      <td>NaN</td>\n",
       "      <td>1.000028</td>\n",
       "      <td>-0.036137</td>\n",
       "      <td>1.000028</td>\n",
       "    </tr>\n",
       "    <tr>\n",
       "      <th>2</th>\n",
       "      <td>1469376600</td>\n",
       "      <td>0.074292</td>\n",
       "      <td>False</td>\n",
       "      <td>0.295152</td>\n",
       "      <td>1.000028</td>\n",
       "      <td>1.295180</td>\n",
       "      <td>1.000028</td>\n",
       "    </tr>\n",
       "    <tr>\n",
       "      <th>3</th>\n",
       "      <td>1469376900</td>\n",
       "      <td>0.074292</td>\n",
       "      <td>False</td>\n",
       "      <td>0.037482</td>\n",
       "      <td>1.000028</td>\n",
       "      <td>1.037511</td>\n",
       "      <td>1.000028</td>\n",
       "    </tr>\n",
       "    <tr>\n",
       "      <th>4</th>\n",
       "      <td>1469377200</td>\n",
       "      <td>-0.036137</td>\n",
       "      <td>False</td>\n",
       "      <td>0.037482</td>\n",
       "      <td>1.000028</td>\n",
       "      <td>1.037511</td>\n",
       "      <td>1.000028</td>\n",
       "    </tr>\n",
       "  </tbody>\n",
       "</table>\n",
       "</div>"
      ],
      "text/plain": [
       "    timestamp     value  label  moving_avg_3       std  expected_value  \\\n",
       "0  1469376000  0.847300  False           NaN  1.000028        0.847300   \n",
       "1  1469376300 -0.036137  False           NaN  1.000028       -0.036137   \n",
       "2  1469376600  0.074292  False      0.295152  1.000028        1.295180   \n",
       "3  1469376900  0.074292  False      0.037482  1.000028        1.037511   \n",
       "4  1469377200 -0.036137  False      0.037482  1.000028        1.037511   \n",
       "\n",
       "   deviation  \n",
       "0   1.000028  \n",
       "1   1.000028  \n",
       "2   1.000028  \n",
       "3   1.000028  \n",
       "4   1.000028  "
      ]
     },
     "execution_count": 217,
     "metadata": {},
     "output_type": "execute_result"
    }
   ],
   "source": [
    "dfcpu.head()"
   ]
  },
  {
   "cell_type": "code",
   "execution_count": 218,
   "metadata": {},
   "outputs": [],
   "source": [
    "dfcpu['pred_anamoly'] = (dfcpu['expected_value'] > dfcpu['value'] + dfcpu['deviation'])  |\\\n",
    "(dfcpu['expected_value']  < dfcpu['value'] - dfcpu['deviation'] )"
   ]
  },
  {
   "cell_type": "code",
   "execution_count": 219,
   "metadata": {},
   "outputs": [
    {
     "data": {
      "text/html": [
       "<div>\n",
       "<style scoped>\n",
       "    .dataframe tbody tr th:only-of-type {\n",
       "        vertical-align: middle;\n",
       "    }\n",
       "\n",
       "    .dataframe tbody tr th {\n",
       "        vertical-align: top;\n",
       "    }\n",
       "\n",
       "    .dataframe thead th {\n",
       "        text-align: right;\n",
       "    }\n",
       "</style>\n",
       "<table border=\"1\" class=\"dataframe\">\n",
       "  <thead>\n",
       "    <tr style=\"text-align: right;\">\n",
       "      <th></th>\n",
       "      <th>timestamp</th>\n",
       "      <th>value</th>\n",
       "      <th>label</th>\n",
       "      <th>moving_avg_3</th>\n",
       "      <th>std</th>\n",
       "      <th>expected_value</th>\n",
       "      <th>deviation</th>\n",
       "      <th>pred_anamoly</th>\n",
       "    </tr>\n",
       "  </thead>\n",
       "  <tbody>\n",
       "    <tr>\n",
       "      <th>0</th>\n",
       "      <td>1469376000</td>\n",
       "      <td>0.847300</td>\n",
       "      <td>False</td>\n",
       "      <td>NaN</td>\n",
       "      <td>1.000028</td>\n",
       "      <td>0.847300</td>\n",
       "      <td>1.000028</td>\n",
       "      <td>False</td>\n",
       "    </tr>\n",
       "    <tr>\n",
       "      <th>1</th>\n",
       "      <td>1469376300</td>\n",
       "      <td>-0.036137</td>\n",
       "      <td>False</td>\n",
       "      <td>NaN</td>\n",
       "      <td>1.000028</td>\n",
       "      <td>-0.036137</td>\n",
       "      <td>1.000028</td>\n",
       "      <td>False</td>\n",
       "    </tr>\n",
       "    <tr>\n",
       "      <th>2</th>\n",
       "      <td>1469376600</td>\n",
       "      <td>0.074292</td>\n",
       "      <td>False</td>\n",
       "      <td>0.295152</td>\n",
       "      <td>1.000028</td>\n",
       "      <td>1.295180</td>\n",
       "      <td>1.000028</td>\n",
       "      <td>True</td>\n",
       "    </tr>\n",
       "    <tr>\n",
       "      <th>3</th>\n",
       "      <td>1469376900</td>\n",
       "      <td>0.074292</td>\n",
       "      <td>False</td>\n",
       "      <td>0.037482</td>\n",
       "      <td>1.000028</td>\n",
       "      <td>1.037511</td>\n",
       "      <td>1.000028</td>\n",
       "      <td>False</td>\n",
       "    </tr>\n",
       "    <tr>\n",
       "      <th>4</th>\n",
       "      <td>1469377200</td>\n",
       "      <td>-0.036137</td>\n",
       "      <td>False</td>\n",
       "      <td>0.037482</td>\n",
       "      <td>1.000028</td>\n",
       "      <td>1.037511</td>\n",
       "      <td>1.000028</td>\n",
       "      <td>True</td>\n",
       "    </tr>\n",
       "  </tbody>\n",
       "</table>\n",
       "</div>"
      ],
      "text/plain": [
       "    timestamp     value  label  moving_avg_3       std  expected_value  \\\n",
       "0  1469376000  0.847300  False           NaN  1.000028        0.847300   \n",
       "1  1469376300 -0.036137  False           NaN  1.000028       -0.036137   \n",
       "2  1469376600  0.074292  False      0.295152  1.000028        1.295180   \n",
       "3  1469376900  0.074292  False      0.037482  1.000028        1.037511   \n",
       "4  1469377200 -0.036137  False      0.037482  1.000028        1.037511   \n",
       "\n",
       "   deviation  pred_anamoly  \n",
       "0   1.000028         False  \n",
       "1   1.000028         False  \n",
       "2   1.000028          True  \n",
       "3   1.000028         False  \n",
       "4   1.000028          True  "
      ]
     },
     "execution_count": 219,
     "metadata": {},
     "output_type": "execute_result"
    }
   ],
   "source": [
    "dfcpu.head()"
   ]
  },
  {
   "cell_type": "code",
   "execution_count": 220,
   "metadata": {},
   "outputs": [
    {
     "data": {
      "text/html": [
       "<div>\n",
       "<style scoped>\n",
       "    .dataframe tbody tr th:only-of-type {\n",
       "        vertical-align: middle;\n",
       "    }\n",
       "\n",
       "    .dataframe tbody tr th {\n",
       "        vertical-align: top;\n",
       "    }\n",
       "\n",
       "    .dataframe thead th {\n",
       "        text-align: right;\n",
       "    }\n",
       "</style>\n",
       "<table border=\"1\" class=\"dataframe\">\n",
       "  <thead>\n",
       "    <tr style=\"text-align: right;\">\n",
       "      <th></th>\n",
       "      <th>timestamp</th>\n",
       "      <th>value</th>\n",
       "      <th>label</th>\n",
       "      <th>moving_avg_3</th>\n",
       "      <th>std</th>\n",
       "      <th>expected_value</th>\n",
       "      <th>deviation</th>\n",
       "      <th>pred_anamoly</th>\n",
       "    </tr>\n",
       "  </thead>\n",
       "  <tbody>\n",
       "    <tr>\n",
       "      <th>395</th>\n",
       "      <td>1469494500</td>\n",
       "      <td>0.405581</td>\n",
       "      <td>True</td>\n",
       "      <td>0.405581</td>\n",
       "      <td>1.000028</td>\n",
       "      <td>1.405610</td>\n",
       "      <td>1.000028</td>\n",
       "      <td>False</td>\n",
       "    </tr>\n",
       "    <tr>\n",
       "      <th>396</th>\n",
       "      <td>1469494800</td>\n",
       "      <td>1.509878</td>\n",
       "      <td>True</td>\n",
       "      <td>0.810490</td>\n",
       "      <td>1.000028</td>\n",
       "      <td>1.810519</td>\n",
       "      <td>1.000028</td>\n",
       "      <td>False</td>\n",
       "    </tr>\n",
       "    <tr>\n",
       "      <th>397</th>\n",
       "      <td>1469495100</td>\n",
       "      <td>0.736871</td>\n",
       "      <td>True</td>\n",
       "      <td>0.884110</td>\n",
       "      <td>1.000028</td>\n",
       "      <td>1.884139</td>\n",
       "      <td>1.000028</td>\n",
       "      <td>True</td>\n",
       "    </tr>\n",
       "    <tr>\n",
       "      <th>886</th>\n",
       "      <td>1469641800</td>\n",
       "      <td>0.516011</td>\n",
       "      <td>True</td>\n",
       "      <td>0.442391</td>\n",
       "      <td>1.000028</td>\n",
       "      <td>1.442420</td>\n",
       "      <td>1.000028</td>\n",
       "      <td>False</td>\n",
       "    </tr>\n",
       "    <tr>\n",
       "      <th>887</th>\n",
       "      <td>1469642100</td>\n",
       "      <td>0.184722</td>\n",
       "      <td>True</td>\n",
       "      <td>0.368772</td>\n",
       "      <td>1.000028</td>\n",
       "      <td>1.368800</td>\n",
       "      <td>1.000028</td>\n",
       "      <td>True</td>\n",
       "    </tr>\n",
       "  </tbody>\n",
       "</table>\n",
       "</div>"
      ],
      "text/plain": [
       "      timestamp     value  label  moving_avg_3       std  expected_value  \\\n",
       "395  1469494500  0.405581   True      0.405581  1.000028        1.405610   \n",
       "396  1469494800  1.509878   True      0.810490  1.000028        1.810519   \n",
       "397  1469495100  0.736871   True      0.884110  1.000028        1.884139   \n",
       "886  1469641800  0.516011   True      0.442391  1.000028        1.442420   \n",
       "887  1469642100  0.184722   True      0.368772  1.000028        1.368800   \n",
       "\n",
       "     deviation  pred_anamoly  \n",
       "395   1.000028         False  \n",
       "396   1.000028         False  \n",
       "397   1.000028          True  \n",
       "886   1.000028         False  \n",
       "887   1.000028          True  "
      ]
     },
     "execution_count": 220,
     "metadata": {},
     "output_type": "execute_result"
    }
   ],
   "source": [
    "dfcpu.loc[dfcpu['label'] == True].head()"
   ]
  },
  {
   "cell_type": "code",
   "execution_count": 224,
   "metadata": {},
   "outputs": [
    {
     "name": "stdout",
     "output_type": "stream",
     "text": [
      "False    9242\n",
      "True     8326\n",
      "Name: pred_anamoly, dtype: int64\n",
      "False    0.52607\n",
      "True     0.47393\n",
      "Name: pred_anamoly, dtype: float64\n"
     ]
    }
   ],
   "source": [
    "print(dfcpu.pred_anamoly.value_counts())\n",
    "print(dfcpu.pred_anamoly.value_counts(normalize=True))"
   ]
  },
  {
   "cell_type": "code",
   "execution_count": 225,
   "metadata": {},
   "outputs": [
    {
     "data": {
      "image/png": "[encoded data removed]",
      "text/plain": [
       "<Figure size 864x288 with 1 Axes>"
      ]
     },
     "metadata": {
      "needs_background": "light"
     },
     "output_type": "display_data"
    }
   ],
   "source": [
    "dfcpu_zoom = dfcpu[800:1100]\n",
    "plt.figure(figsize=(12,4))\n",
    "sns.scatterplot(data=dfcpu_zoom, x=\"timestamp\", y=\"value\", hue=\"label\")\n",
    "plt.show()"
   ]
  },
  {
   "cell_type": "code",
   "execution_count": 226,
   "metadata": {},
   "outputs": [
    {
     "data": {
      "image/png": "[encoded data removed]",
      "text/plain": [
       "<Figure size 864x288 with 1 Axes>"
      ]
     },
     "metadata": {
      "needs_background": "light"
     },
     "output_type": "display_data"
    }
   ],
   "source": [
    "dfcpu_zoom = dfcpu[800:1100]\n",
    "plt.figure(figsize=(12,4))\n",
    "sns.scatterplot(data=dfcpu_zoom, x=\"timestamp\", y=\"moving_avg_3\", hue=\"label\")\n",
    "plt.show()"
   ]
  },
  {
   "cell_type": "code",
   "execution_count": 227,
   "metadata": {},
   "outputs": [
    {
     "data": {
      "image/png": "[encoded data removed]",
      "text/plain": [
       "<Figure size 864x288 with 1 Axes>"
      ]
     },
     "metadata": {
      "needs_background": "light"
     },
     "output_type": "display_data"
    }
   ],
   "source": [
    "dfcpu_zoom = dfcpu[800:1100]\n",
    "plt.figure(figsize=(12,4))\n",
    "sns.scatterplot(data=dfcpu_zoom, x=\"timestamp\", y=\"expected_value\", hue=\"pred_anamoly\")\n",
    "plt.show()"
   ]
  },
  {
   "cell_type": "code",
   "execution_count": null,
   "metadata": {},
   "outputs": [],
   "source": []
  },
  {
   "cell_type": "code",
   "execution_count": null,
   "metadata": {},
   "outputs": [],
   "source": []
  },
  {
   "cell_type": "code",
   "execution_count": null,
   "metadata": {},
   "outputs": [],
   "source": []
  }
 ],
 "metadata": {
  "kernelspec": {
   "display_name": "Python 3",
   "language": "python",
   "name": "python3"
  },
  "language_info": {
   "codemirror_mode": {
    "name": "ipython",
    "version": 3
   },
   "file_extension": ".py",
   "mimetype": "text/x-python",
   "name": "python",
   "nbconvert_exporter": "python",
   "pygments_lexer": "ipython3",
   "version": "3.7.6"
  }
 },
 "nbformat": 4,
 "nbformat_minor": 4
}
