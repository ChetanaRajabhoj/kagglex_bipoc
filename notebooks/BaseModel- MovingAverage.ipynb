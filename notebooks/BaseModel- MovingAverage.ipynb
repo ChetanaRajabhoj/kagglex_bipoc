{
 "cells": [
  {
   "cell_type": "code",
   "execution_count": 1,
   "metadata": {},
   "outputs": [],
   "source": [
    "import numpy as np\n",
    "import pandas as pd\n",
    "\n",
    "import seaborn as sns\n",
    "import matplotlib.pyplot as plt"
   ]
  },
  {
   "cell_type": "code",
   "execution_count": 2,
   "metadata": {},
   "outputs": [],
   "source": [
    "dfcpu = pd.read_csv('C:/Users/rajab/KaggleX_Bipoc/data/raw/cpu4.csv')\n",
    "dfcpu = dfcpu.sort_values(by='timestamp', ascending=True)\n",
    "dfcpu = dfcpu.replace({'label': {0.0: False, 1.0: True}})"
   ]
  },
  {
   "cell_type": "code",
   "execution_count": 3,
   "metadata": {},
   "outputs": [
    {
     "name": "stdout",
     "output_type": "stream",
     "text": [
      "<class 'pandas.core.frame.DataFrame'>\n",
      "Int64Index: 17568 entries, 0 to 17567\n",
      "Data columns (total 3 columns):\n",
      " #   Column     Non-Null Count  Dtype  \n",
      "---  ------     --------------  -----  \n",
      " 0   timestamp  17568 non-null  int64  \n",
      " 1   value      17568 non-null  float64\n",
      " 2   label      17568 non-null  bool   \n",
      "dtypes: bool(1), float64(1), int64(1)\n",
      "memory usage: 428.9 KB\n"
     ]
    }
   ],
   "source": [
    "dfcpu.info()"
   ]
  },
  {
   "cell_type": "markdown",
   "metadata": {},
   "source": [
    "# Moving Average\n",
    "Moving Average is the most common type of average used in Time Series problems. We perform the sum of recent data points and divide them by the time period. Further, we simply check if the new record is far from the expected value. The expected value range is computed using the formula:\n",
    "\n",
    "expected value=  Moving Average + standard deviation * threshold; \n",
    "\n",
    "if moving average is out of the expected value range, we report as an anomaly."
   ]
  },
  {
   "cell_type": "code",
   "execution_count": 4,
   "metadata": {},
   "outputs": [],
   "source": [
    "dfcpu['moving_avg_3'] = dfcpu.iloc[:,1].rolling(window=3).mean()\n",
    "dfcpu['moving_avg_3'].fillna(dfcpu['value'], inplace = True)\n",
    "dfcpu['std'] = np.std(dfcpu['value'], ddof = 1)"
   ]
  },
  {
   "cell_type": "code",
   "execution_count": 5,
   "metadata": {},
   "outputs": [
    {
     "data": {
      "text/html": [
       "<div>\n",
       "<style scoped>\n",
       "    .dataframe tbody tr th:only-of-type {\n",
       "        vertical-align: middle;\n",
       "    }\n",
       "\n",
       "    .dataframe tbody tr th {\n",
       "        vertical-align: top;\n",
       "    }\n",
       "\n",
       "    .dataframe thead th {\n",
       "        text-align: right;\n",
       "    }\n",
       "</style>\n",
       "<table border=\"1\" class=\"dataframe\">\n",
       "  <thead>\n",
       "    <tr style=\"text-align: right;\">\n",
       "      <th></th>\n",
       "      <th>timestamp</th>\n",
       "      <th>value</th>\n",
       "      <th>label</th>\n",
       "      <th>moving_avg_3</th>\n",
       "      <th>std</th>\n",
       "    </tr>\n",
       "  </thead>\n",
       "  <tbody>\n",
       "    <tr>\n",
       "      <th>0</th>\n",
       "      <td>1469376000</td>\n",
       "      <td>0.847300</td>\n",
       "      <td>False</td>\n",
       "      <td>0.847300</td>\n",
       "      <td>1.000028</td>\n",
       "    </tr>\n",
       "    <tr>\n",
       "      <th>1</th>\n",
       "      <td>1469376300</td>\n",
       "      <td>-0.036137</td>\n",
       "      <td>False</td>\n",
       "      <td>-0.036137</td>\n",
       "      <td>1.000028</td>\n",
       "    </tr>\n",
       "    <tr>\n",
       "      <th>2</th>\n",
       "      <td>1469376600</td>\n",
       "      <td>0.074292</td>\n",
       "      <td>False</td>\n",
       "      <td>0.295152</td>\n",
       "      <td>1.000028</td>\n",
       "    </tr>\n",
       "    <tr>\n",
       "      <th>3</th>\n",
       "      <td>1469376900</td>\n",
       "      <td>0.074292</td>\n",
       "      <td>False</td>\n",
       "      <td>0.037482</td>\n",
       "      <td>1.000028</td>\n",
       "    </tr>\n",
       "    <tr>\n",
       "      <th>4</th>\n",
       "      <td>1469377200</td>\n",
       "      <td>-0.036137</td>\n",
       "      <td>False</td>\n",
       "      <td>0.037482</td>\n",
       "      <td>1.000028</td>\n",
       "    </tr>\n",
       "  </tbody>\n",
       "</table>\n",
       "</div>"
      ],
      "text/plain": [
       "    timestamp     value  label  moving_avg_3       std\n",
       "0  1469376000  0.847300  False      0.847300  1.000028\n",
       "1  1469376300 -0.036137  False     -0.036137  1.000028\n",
       "2  1469376600  0.074292  False      0.295152  1.000028\n",
       "3  1469376900  0.074292  False      0.037482  1.000028\n",
       "4  1469377200 -0.036137  False      0.037482  1.000028"
      ]
     },
     "execution_count": 5,
     "metadata": {},
     "output_type": "execute_result"
    }
   ],
   "source": [
    "dfcpu.head()"
   ]
  },
  {
   "cell_type": "code",
   "execution_count": 6,
   "metadata": {},
   "outputs": [
    {
     "data": {
      "text/html": [
       "<div>\n",
       "<style scoped>\n",
       "    .dataframe tbody tr th:only-of-type {\n",
       "        vertical-align: middle;\n",
       "    }\n",
       "\n",
       "    .dataframe tbody tr th {\n",
       "        vertical-align: top;\n",
       "    }\n",
       "\n",
       "    .dataframe thead th {\n",
       "        text-align: right;\n",
       "    }\n",
       "</style>\n",
       "<table border=\"1\" class=\"dataframe\">\n",
       "  <thead>\n",
       "    <tr style=\"text-align: right;\">\n",
       "      <th></th>\n",
       "      <th>timestamp</th>\n",
       "      <th>value</th>\n",
       "      <th>label</th>\n",
       "      <th>moving_avg_3</th>\n",
       "      <th>std</th>\n",
       "    </tr>\n",
       "  </thead>\n",
       "  <tbody>\n",
       "    <tr>\n",
       "      <th>395</th>\n",
       "      <td>1469494500</td>\n",
       "      <td>0.405581</td>\n",
       "      <td>True</td>\n",
       "      <td>0.405581</td>\n",
       "      <td>1.000028</td>\n",
       "    </tr>\n",
       "    <tr>\n",
       "      <th>396</th>\n",
       "      <td>1469494800</td>\n",
       "      <td>1.509878</td>\n",
       "      <td>True</td>\n",
       "      <td>0.810490</td>\n",
       "      <td>1.000028</td>\n",
       "    </tr>\n",
       "    <tr>\n",
       "      <th>397</th>\n",
       "      <td>1469495100</td>\n",
       "      <td>0.736871</td>\n",
       "      <td>True</td>\n",
       "      <td>0.884110</td>\n",
       "      <td>1.000028</td>\n",
       "    </tr>\n",
       "    <tr>\n",
       "      <th>886</th>\n",
       "      <td>1469641800</td>\n",
       "      <td>0.516011</td>\n",
       "      <td>True</td>\n",
       "      <td>0.442391</td>\n",
       "      <td>1.000028</td>\n",
       "    </tr>\n",
       "    <tr>\n",
       "      <th>887</th>\n",
       "      <td>1469642100</td>\n",
       "      <td>0.184722</td>\n",
       "      <td>True</td>\n",
       "      <td>0.368772</td>\n",
       "      <td>1.000028</td>\n",
       "    </tr>\n",
       "  </tbody>\n",
       "</table>\n",
       "</div>"
      ],
      "text/plain": [
       "      timestamp     value  label  moving_avg_3       std\n",
       "395  1469494500  0.405581   True      0.405581  1.000028\n",
       "396  1469494800  1.509878   True      0.810490  1.000028\n",
       "397  1469495100  0.736871   True      0.884110  1.000028\n",
       "886  1469641800  0.516011   True      0.442391  1.000028\n",
       "887  1469642100  0.184722   True      0.368772  1.000028"
      ]
     },
     "execution_count": 6,
     "metadata": {},
     "output_type": "execute_result"
    }
   ],
   "source": [
    "dfcpu.loc[dfcpu['label'] == True].head()"
   ]
  },
  {
   "cell_type": "code",
   "execution_count": 7,
   "metadata": {},
   "outputs": [],
   "source": [
    "threshold = 0.25"
   ]
  },
  {
   "cell_type": "code",
   "execution_count": 8,
   "metadata": {},
   "outputs": [],
   "source": [
    "dfcpu['deviation'] = dfcpu['std'] * threshold\n",
    "# dfcpu['expected_value'] = dfcpu['moving_avg_3'] + dfcpu['deviation']"
   ]
  },
  {
   "cell_type": "code",
   "execution_count": 9,
   "metadata": {},
   "outputs": [
    {
     "data": {
      "text/html": [
       "<div>\n",
       "<style scoped>\n",
       "    .dataframe tbody tr th:only-of-type {\n",
       "        vertical-align: middle;\n",
       "    }\n",
       "\n",
       "    .dataframe tbody tr th {\n",
       "        vertical-align: top;\n",
       "    }\n",
       "\n",
       "    .dataframe thead th {\n",
       "        text-align: right;\n",
       "    }\n",
       "</style>\n",
       "<table border=\"1\" class=\"dataframe\">\n",
       "  <thead>\n",
       "    <tr style=\"text-align: right;\">\n",
       "      <th></th>\n",
       "      <th>timestamp</th>\n",
       "      <th>value</th>\n",
       "      <th>label</th>\n",
       "      <th>moving_avg_3</th>\n",
       "      <th>std</th>\n",
       "      <th>deviation</th>\n",
       "    </tr>\n",
       "  </thead>\n",
       "  <tbody>\n",
       "    <tr>\n",
       "      <th>395</th>\n",
       "      <td>1469494500</td>\n",
       "      <td>0.405581</td>\n",
       "      <td>True</td>\n",
       "      <td>0.405581</td>\n",
       "      <td>1.000028</td>\n",
       "      <td>0.250007</td>\n",
       "    </tr>\n",
       "    <tr>\n",
       "      <th>396</th>\n",
       "      <td>1469494800</td>\n",
       "      <td>1.509878</td>\n",
       "      <td>True</td>\n",
       "      <td>0.810490</td>\n",
       "      <td>1.000028</td>\n",
       "      <td>0.250007</td>\n",
       "    </tr>\n",
       "    <tr>\n",
       "      <th>397</th>\n",
       "      <td>1469495100</td>\n",
       "      <td>0.736871</td>\n",
       "      <td>True</td>\n",
       "      <td>0.884110</td>\n",
       "      <td>1.000028</td>\n",
       "      <td>0.250007</td>\n",
       "    </tr>\n",
       "    <tr>\n",
       "      <th>886</th>\n",
       "      <td>1469641800</td>\n",
       "      <td>0.516011</td>\n",
       "      <td>True</td>\n",
       "      <td>0.442391</td>\n",
       "      <td>1.000028</td>\n",
       "      <td>0.250007</td>\n",
       "    </tr>\n",
       "    <tr>\n",
       "      <th>887</th>\n",
       "      <td>1469642100</td>\n",
       "      <td>0.184722</td>\n",
       "      <td>True</td>\n",
       "      <td>0.368772</td>\n",
       "      <td>1.000028</td>\n",
       "      <td>0.250007</td>\n",
       "    </tr>\n",
       "  </tbody>\n",
       "</table>\n",
       "</div>"
      ],
      "text/plain": [
       "      timestamp     value  label  moving_avg_3       std  deviation\n",
       "395  1469494500  0.405581   True      0.405581  1.000028   0.250007\n",
       "396  1469494800  1.509878   True      0.810490  1.000028   0.250007\n",
       "397  1469495100  0.736871   True      0.884110  1.000028   0.250007\n",
       "886  1469641800  0.516011   True      0.442391  1.000028   0.250007\n",
       "887  1469642100  0.184722   True      0.368772  1.000028   0.250007"
      ]
     },
     "execution_count": 9,
     "metadata": {},
     "output_type": "execute_result"
    }
   ],
   "source": [
    "dfcpu.loc[dfcpu['label'] == True].head()"
   ]
  },
  {
   "cell_type": "code",
   "execution_count": 10,
   "metadata": {},
   "outputs": [
    {
     "data": {
      "text/html": [
       "<div>\n",
       "<style scoped>\n",
       "    .dataframe tbody tr th:only-of-type {\n",
       "        vertical-align: middle;\n",
       "    }\n",
       "\n",
       "    .dataframe tbody tr th {\n",
       "        vertical-align: top;\n",
       "    }\n",
       "\n",
       "    .dataframe thead th {\n",
       "        text-align: right;\n",
       "    }\n",
       "</style>\n",
       "<table border=\"1\" class=\"dataframe\">\n",
       "  <thead>\n",
       "    <tr style=\"text-align: right;\">\n",
       "      <th></th>\n",
       "      <th>timestamp</th>\n",
       "      <th>value</th>\n",
       "      <th>label</th>\n",
       "      <th>moving_avg_3</th>\n",
       "      <th>std</th>\n",
       "      <th>deviation</th>\n",
       "    </tr>\n",
       "  </thead>\n",
       "  <tbody>\n",
       "    <tr>\n",
       "      <th>0</th>\n",
       "      <td>1469376000</td>\n",
       "      <td>0.847300</td>\n",
       "      <td>False</td>\n",
       "      <td>0.847300</td>\n",
       "      <td>1.000028</td>\n",
       "      <td>0.250007</td>\n",
       "    </tr>\n",
       "    <tr>\n",
       "      <th>1</th>\n",
       "      <td>1469376300</td>\n",
       "      <td>-0.036137</td>\n",
       "      <td>False</td>\n",
       "      <td>-0.036137</td>\n",
       "      <td>1.000028</td>\n",
       "      <td>0.250007</td>\n",
       "    </tr>\n",
       "    <tr>\n",
       "      <th>2</th>\n",
       "      <td>1469376600</td>\n",
       "      <td>0.074292</td>\n",
       "      <td>False</td>\n",
       "      <td>0.295152</td>\n",
       "      <td>1.000028</td>\n",
       "      <td>0.250007</td>\n",
       "    </tr>\n",
       "    <tr>\n",
       "      <th>3</th>\n",
       "      <td>1469376900</td>\n",
       "      <td>0.074292</td>\n",
       "      <td>False</td>\n",
       "      <td>0.037482</td>\n",
       "      <td>1.000028</td>\n",
       "      <td>0.250007</td>\n",
       "    </tr>\n",
       "    <tr>\n",
       "      <th>4</th>\n",
       "      <td>1469377200</td>\n",
       "      <td>-0.036137</td>\n",
       "      <td>False</td>\n",
       "      <td>0.037482</td>\n",
       "      <td>1.000028</td>\n",
       "      <td>0.250007</td>\n",
       "    </tr>\n",
       "  </tbody>\n",
       "</table>\n",
       "</div>"
      ],
      "text/plain": [
       "    timestamp     value  label  moving_avg_3       std  deviation\n",
       "0  1469376000  0.847300  False      0.847300  1.000028   0.250007\n",
       "1  1469376300 -0.036137  False     -0.036137  1.000028   0.250007\n",
       "2  1469376600  0.074292  False      0.295152  1.000028   0.250007\n",
       "3  1469376900  0.074292  False      0.037482  1.000028   0.250007\n",
       "4  1469377200 -0.036137  False      0.037482  1.000028   0.250007"
      ]
     },
     "execution_count": 10,
     "metadata": {},
     "output_type": "execute_result"
    }
   ],
   "source": [
    "dfcpu.head()"
   ]
  },
  {
   "cell_type": "code",
   "execution_count": 11,
   "metadata": {},
   "outputs": [],
   "source": [
    "dfcpu['pred_anamoly'] = (dfcpu['moving_avg_3'] > dfcpu['value'] + dfcpu['deviation'])  |\\\n",
    "(dfcpu['moving_avg_3']  < dfcpu['value'] - dfcpu['deviation'] )"
   ]
  },
  {
   "cell_type": "code",
   "execution_count": 12,
   "metadata": {},
   "outputs": [
    {
     "data": {
      "text/html": [
       "<div>\n",
       "<style scoped>\n",
       "    .dataframe tbody tr th:only-of-type {\n",
       "        vertical-align: middle;\n",
       "    }\n",
       "\n",
       "    .dataframe tbody tr th {\n",
       "        vertical-align: top;\n",
       "    }\n",
       "\n",
       "    .dataframe thead th {\n",
       "        text-align: right;\n",
       "    }\n",
       "</style>\n",
       "<table border=\"1\" class=\"dataframe\">\n",
       "  <thead>\n",
       "    <tr style=\"text-align: right;\">\n",
       "      <th></th>\n",
       "      <th>timestamp</th>\n",
       "      <th>value</th>\n",
       "      <th>label</th>\n",
       "      <th>moving_avg_3</th>\n",
       "      <th>std</th>\n",
       "      <th>deviation</th>\n",
       "      <th>pred_anamoly</th>\n",
       "    </tr>\n",
       "  </thead>\n",
       "  <tbody>\n",
       "    <tr>\n",
       "      <th>0</th>\n",
       "      <td>1469376000</td>\n",
       "      <td>0.847300</td>\n",
       "      <td>False</td>\n",
       "      <td>0.847300</td>\n",
       "      <td>1.000028</td>\n",
       "      <td>0.250007</td>\n",
       "      <td>False</td>\n",
       "    </tr>\n",
       "    <tr>\n",
       "      <th>1</th>\n",
       "      <td>1469376300</td>\n",
       "      <td>-0.036137</td>\n",
       "      <td>False</td>\n",
       "      <td>-0.036137</td>\n",
       "      <td>1.000028</td>\n",
       "      <td>0.250007</td>\n",
       "      <td>False</td>\n",
       "    </tr>\n",
       "    <tr>\n",
       "      <th>2</th>\n",
       "      <td>1469376600</td>\n",
       "      <td>0.074292</td>\n",
       "      <td>False</td>\n",
       "      <td>0.295152</td>\n",
       "      <td>1.000028</td>\n",
       "      <td>0.250007</td>\n",
       "      <td>False</td>\n",
       "    </tr>\n",
       "    <tr>\n",
       "      <th>3</th>\n",
       "      <td>1469376900</td>\n",
       "      <td>0.074292</td>\n",
       "      <td>False</td>\n",
       "      <td>0.037482</td>\n",
       "      <td>1.000028</td>\n",
       "      <td>0.250007</td>\n",
       "      <td>False</td>\n",
       "    </tr>\n",
       "    <tr>\n",
       "      <th>4</th>\n",
       "      <td>1469377200</td>\n",
       "      <td>-0.036137</td>\n",
       "      <td>False</td>\n",
       "      <td>0.037482</td>\n",
       "      <td>1.000028</td>\n",
       "      <td>0.250007</td>\n",
       "      <td>False</td>\n",
       "    </tr>\n",
       "  </tbody>\n",
       "</table>\n",
       "</div>"
      ],
      "text/plain": [
       "    timestamp     value  label  moving_avg_3       std  deviation  \\\n",
       "0  1469376000  0.847300  False      0.847300  1.000028   0.250007   \n",
       "1  1469376300 -0.036137  False     -0.036137  1.000028   0.250007   \n",
       "2  1469376600  0.074292  False      0.295152  1.000028   0.250007   \n",
       "3  1469376900  0.074292  False      0.037482  1.000028   0.250007   \n",
       "4  1469377200 -0.036137  False      0.037482  1.000028   0.250007   \n",
       "\n",
       "   pred_anamoly  \n",
       "0         False  \n",
       "1         False  \n",
       "2         False  \n",
       "3         False  \n",
       "4         False  "
      ]
     },
     "execution_count": 12,
     "metadata": {},
     "output_type": "execute_result"
    }
   ],
   "source": [
    "dfcpu.head()"
   ]
  },
  {
   "cell_type": "code",
   "execution_count": 13,
   "metadata": {},
   "outputs": [
    {
     "data": {
      "text/html": [
       "<div>\n",
       "<style scoped>\n",
       "    .dataframe tbody tr th:only-of-type {\n",
       "        vertical-align: middle;\n",
       "    }\n",
       "\n",
       "    .dataframe tbody tr th {\n",
       "        vertical-align: top;\n",
       "    }\n",
       "\n",
       "    .dataframe thead th {\n",
       "        text-align: right;\n",
       "    }\n",
       "</style>\n",
       "<table border=\"1\" class=\"dataframe\">\n",
       "  <thead>\n",
       "    <tr style=\"text-align: right;\">\n",
       "      <th></th>\n",
       "      <th>timestamp</th>\n",
       "      <th>value</th>\n",
       "      <th>label</th>\n",
       "      <th>moving_avg_3</th>\n",
       "      <th>std</th>\n",
       "      <th>deviation</th>\n",
       "      <th>pred_anamoly</th>\n",
       "    </tr>\n",
       "  </thead>\n",
       "  <tbody>\n",
       "    <tr>\n",
       "      <th>395</th>\n",
       "      <td>1469494500</td>\n",
       "      <td>0.405581</td>\n",
       "      <td>True</td>\n",
       "      <td>0.405581</td>\n",
       "      <td>1.000028</td>\n",
       "      <td>0.250007</td>\n",
       "      <td>False</td>\n",
       "    </tr>\n",
       "    <tr>\n",
       "      <th>396</th>\n",
       "      <td>1469494800</td>\n",
       "      <td>1.509878</td>\n",
       "      <td>True</td>\n",
       "      <td>0.810490</td>\n",
       "      <td>1.000028</td>\n",
       "      <td>0.250007</td>\n",
       "      <td>True</td>\n",
       "    </tr>\n",
       "    <tr>\n",
       "      <th>397</th>\n",
       "      <td>1469495100</td>\n",
       "      <td>0.736871</td>\n",
       "      <td>True</td>\n",
       "      <td>0.884110</td>\n",
       "      <td>1.000028</td>\n",
       "      <td>0.250007</td>\n",
       "      <td>False</td>\n",
       "    </tr>\n",
       "    <tr>\n",
       "      <th>886</th>\n",
       "      <td>1469641800</td>\n",
       "      <td>0.516011</td>\n",
       "      <td>True</td>\n",
       "      <td>0.442391</td>\n",
       "      <td>1.000028</td>\n",
       "      <td>0.250007</td>\n",
       "      <td>False</td>\n",
       "    </tr>\n",
       "    <tr>\n",
       "      <th>887</th>\n",
       "      <td>1469642100</td>\n",
       "      <td>0.184722</td>\n",
       "      <td>True</td>\n",
       "      <td>0.368772</td>\n",
       "      <td>1.000028</td>\n",
       "      <td>0.250007</td>\n",
       "      <td>False</td>\n",
       "    </tr>\n",
       "  </tbody>\n",
       "</table>\n",
       "</div>"
      ],
      "text/plain": [
       "      timestamp     value  label  moving_avg_3       std  deviation  \\\n",
       "395  1469494500  0.405581   True      0.405581  1.000028   0.250007   \n",
       "396  1469494800  1.509878   True      0.810490  1.000028   0.250007   \n",
       "397  1469495100  0.736871   True      0.884110  1.000028   0.250007   \n",
       "886  1469641800  0.516011   True      0.442391  1.000028   0.250007   \n",
       "887  1469642100  0.184722   True      0.368772  1.000028   0.250007   \n",
       "\n",
       "     pred_anamoly  \n",
       "395         False  \n",
       "396          True  \n",
       "397         False  \n",
       "886         False  \n",
       "887         False  "
      ]
     },
     "execution_count": 13,
     "metadata": {},
     "output_type": "execute_result"
    }
   ],
   "source": [
    "dfcpu.loc[dfcpu['label'] == True].head()"
   ]
  },
  {
   "cell_type": "code",
   "execution_count": 14,
   "metadata": {},
   "outputs": [
    {
     "name": "stdout",
     "output_type": "stream",
     "text": [
      "False    17304\n",
      "True       264\n",
      "Name: pred_anamoly, dtype: int64\n",
      "False    0.984973\n",
      "True     0.015027\n",
      "Name: pred_anamoly, dtype: float64\n"
     ]
    }
   ],
   "source": [
    "print(dfcpu.pred_anamoly.value_counts())\n",
    "print(dfcpu.pred_anamoly.value_counts(normalize=True))"
   ]
  },
  {
   "cell_type": "code",
   "execution_count": 15,
   "metadata": {},
   "outputs": [
    {
     "data": {
      "image/png": "[encoded data removed]",
      "text/plain": [
       "<Figure size 864x288 with 1 Axes>"
      ]
     },
     "metadata": {
      "needs_background": "light"
     },
     "output_type": "display_data"
    }
   ],
   "source": [
    "dfcpu_zoom = dfcpu[800:1100]\n",
    "plt.figure(figsize=(12,4))\n",
    "sns.scatterplot(data=dfcpu_zoom, x=\"timestamp\", y=\"value\", hue=\"label\")\n",
    "plt.show()"
   ]
  },
  {
   "cell_type": "code",
   "execution_count": 16,
   "metadata": {},
   "outputs": [],
   "source": [
    "dfcpu['min'] = dfcpu['value'] - dfcpu['std']\n",
    "dfcpu['max'] = dfcpu['value'] + dfcpu['std']"
   ]
  },
  {
   "cell_type": "code",
   "execution_count": 18,
   "metadata": {},
   "outputs": [
    {
     "data": {
      "image/png": "[encoded data removed]",
      "text/plain": [
       "<Figure size 864x288 with 1 Axes>"
      ]
     },
     "metadata": {
      "needs_background": "light"
     },
     "output_type": "display_data"
    }
   ],
   "source": [
    "\n",
    "\n",
    "dfcpu_zoom = dfcpu[800:1100]\n",
    "\n",
    "plt.figure(figsize=(12,4))\n",
    "sns.scatterplot(data=dfcpu_zoom, x=\"timestamp\", y=\"value\", hue=\"pred_anamoly\")\n",
    "# plt.fill_between(dfcpu_zoom.timestamp, dfcpu_zoom.min, dfcpu_zoom.max, facecolor='green', alpha=0.2)\n",
    "plt.show()"
   ]
  },
  {
   "cell_type": "code",
   "execution_count": 25,
   "metadata": {},
   "outputs": [
    {
     "data": {
      "image/png": "[encoded data removed]",
      "text/plain": [
       "<Figure size 864x288 with 1 Axes>"
      ]
     },
     "metadata": {
      "needs_background": "light"
     },
     "output_type": "display_data"
    }
   ],
   "source": [
    "dfcpu_zoom = dfcpu[800:1100]\n",
    "fig, ax = plt.subplots(figsize=(12,4))\n",
    "sns.lineplot(data=dfcpu_zoom, x=\"timestamp\", y=\"value\", hue=\"label\",err_style=\"band\", ci=\"sd\", estimator=\"median\",ax=ax)\n",
    "# plt.fill_between(dfcpu_zoom.timestamp, dfcpu_zoom.min, dfcpu_zoom.max, facecolor='green', alpha=0.2)\n",
    "plt.show()"
   ]
  },
  {
   "cell_type": "code",
   "execution_count": null,
   "metadata": {},
   "outputs": [],
   "source": []
  }
 ],
 "metadata": {
  "kernelspec": {
   "display_name": "Python 3",
   "language": "python",
   "name": "python3"
  },
  "language_info": {
   "codemirror_mode": {
    "name": "ipython",
    "version": 3
   },
   "file_extension": ".py",
   "mimetype": "text/x-python",
   "name": "python",
   "nbconvert_exporter": "python",
   "pygments_lexer": "ipython3",
   "version": "3.7.6"
  }
 },
 "nbformat": 4,
 "nbformat_minor": 4
}
